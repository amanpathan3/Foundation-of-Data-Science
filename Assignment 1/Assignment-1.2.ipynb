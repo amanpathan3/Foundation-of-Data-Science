{
 "cells": [
  {
   "cell_type": "code",
   "execution_count": null,
   "id": "48a049e8",
   "metadata": {},
   "outputs": [],
   "source": [
    "#Assignment 1\n",
    "#Name: Aman Pathan\n",
    "#Roll No : 104\n",
    "#Class : TYIT-B\n",
    "#Batch: B2\n",
    "\n",
    "import numpy as np"
   ]
  },
  {
   "cell_type": "code",
   "execution_count": null,
   "id": "073170c8",
   "metadata": {},
   "outputs": [
    {
     "name": "stdout",
     "output_type": "stream",
     "text": [
      "[1 2 3 4 5 6 7]\n",
      "1\n",
      "2\n",
      "7\n",
      "6\n"
     ]
    }
   ],
   "source": [
    "array=np.array([1,2,3,4,5,6,7]) # crreating a 1D Array \n",
    "print(array)   # Print array \n",
    "print(array[0])   # print 0th index element in array\n",
    "print(array[1])\n",
    "print(array[-1])\n",
    "print(array[-2])"
   ]
  },
  {
   "cell_type": "code",
   "execution_count": null,
   "id": "96dd89b7",
   "metadata": {},
   "outputs": [
    {
     "name": "stdout",
     "output_type": "stream",
     "text": [
      "1\n",
      "2\n"
     ]
    }
   ],
   "source": [
    "array=np.array([1,2,3,4,5,6,7])\n",
    "print(array.ndim)   # printing dimension of array\n",
    "array1=np.array([[1,2,3],[4,5,6]])\n",
    "print(array1.ndim)      # printing dimension of array"
   ]
  },
  {
   "cell_type": "code",
   "execution_count": null,
   "id": "6fa4a0bc",
   "metadata": {},
   "outputs": [
    {
     "name": "stdout",
     "output_type": "stream",
     "text": [
      "[[1 2 3]\n",
      " [4 5 6]]\n",
      "[[ 7  8  9]\n",
      " [10 11 12]]\n",
      "_____________\n",
      "[[ 8 10 12]\n",
      " [14 16 18]]\n"
     ]
    }
   ],
   "source": [
    "array1=np.array([[1,2,3],[4,5,6]])      # creating 2D array\n",
    "array2=np.array([[7,8,9],[10,11,12]])\n",
    "print(array1)\n",
    "print(array2)\n",
    "print(\"_____________\")\n",
    "print(array1+array2)   # Additon of two 2D Array"
   ]
  },
  {
   "cell_type": "code",
   "execution_count": null,
   "id": "bd2bfb28",
   "metadata": {},
   "outputs": [
    {
     "name": "stdout",
     "output_type": "stream",
     "text": [
      "[[1 2 3]\n",
      " [4 5 6]]\n",
      "[[ 7  8  9]\n",
      " [10 11 12]]\n",
      "_____________\n",
      "[[-6 -6 -6]\n",
      " [-6 -6 -6]]\n"
     ]
    }
   ],
   "source": [
    "array1=np.array([[1,2,3],[4,5,6]])\n",
    "array2=np.array([[7,8,9],[10,11,12]])\n",
    "print(array1)\n",
    "print(array2)\n",
    "print(\"_____________\")\n",
    "print(array1-array2)    # Substraction of two 2D Array"
   ]
  },
  {
   "cell_type": "code",
   "execution_count": null,
   "id": "b3744294",
   "metadata": {},
   "outputs": [
    {
     "name": "stdout",
     "output_type": "stream",
     "text": [
      "[[1 2 3]\n",
      " [4 5 6]]\n",
      "[[ 7  8  9]\n",
      " [10 11 12]]\n",
      "_____________\n",
      "[[ 7 16 27]\n",
      " [40 55 72]]\n"
     ]
    }
   ],
   "source": [
    "array1=np.array([[1,2,3],[4,5,6]])\n",
    "array2=np.array([[7,8,9],[10,11,12]])\n",
    "print(array1)\n",
    "print(array2)\n",
    "print(\"_____________\")\n",
    "print(array1*array2)    # Mult of two 2D Array"
   ]
  },
  {
   "cell_type": "code",
   "execution_count": null,
   "id": "0494b82b",
   "metadata": {},
   "outputs": [
    {
     "name": "stdout",
     "output_type": "stream",
     "text": [
      "[[1 2 3]\n",
      " [4 5 6]]\n",
      "[[ 7  8  9]\n",
      " [10 11 12]]\n",
      "_____________\n",
      "[[0.14285714 0.25       0.33333333]\n",
      " [0.4        0.45454545 0.5       ]]\n"
     ]
    }
   ],
   "source": [
    "array1=np.array([[1,2,3],[4,5,6]])\n",
    "array2=np.array([[7,8,9],[10,11,12]])\n",
    "print(array1)\n",
    "print(array2)\n",
    "print(\"_____________\")\n",
    "print(array1/array2)    # div of two 2D Array"
   ]
  },
  {
   "cell_type": "code",
   "execution_count": null,
   "id": "238dfb47",
   "metadata": {},
   "outputs": [
    {
     "name": "stdout",
     "output_type": "stream",
     "text": [
      "[[1 2 3]\n",
      " [4 5 6]]\n",
      "[[ 7  8  9]\n",
      " [10 11 12]]\n",
      "_____________\n",
      "[[         1        256      19683]\n",
      " [   1048576   48828125 2176782336]]\n"
     ]
    }
   ],
   "source": [
    "array1=np.array([[1,2,3],[4,5,6]])\n",
    "array2=np.array([[7,8,9],[10,11,12]])\n",
    "print(array1)\n",
    "print(array2)\n",
    "print(\"_____________\")\n",
    "print(array1**array2)   # Power of two 2D Array"
   ]
  },
  {
   "cell_type": "code",
   "execution_count": null,
   "id": "ceec0553",
   "metadata": {},
   "outputs": [
    {
     "name": "stdout",
     "output_type": "stream",
     "text": [
      "[ 2  3  4  5  6  7  8  9 10]\n",
      "[[ 2  3  4]\n",
      " [ 5  6  7]\n",
      " [ 8  9 10]]\n"
     ]
    }
   ],
   "source": [
    "array3=np.arange(2,11)          #creating array by range function\n",
    "print(array3)\n",
    "print(array3.reshape(3,3))      # reshape array for printing"
   ]
  },
  {
   "cell_type": "code",
   "execution_count": null,
   "id": "756b741b",
   "metadata": {},
   "outputs": [
    {
     "name": "stdout",
     "output_type": "stream",
     "text": [
      "6\n",
      "0\n"
     ]
    }
   ],
   "source": [
    "array=np.array([1,2,3,4,5,6,7])\n",
    "print(np.argmax(array))         #Print the max element index in Array\n",
    "print(np.argmin(array))         #Print the min element index in Array"
   ]
  },
  {
   "cell_type": "code",
   "execution_count": null,
   "id": "92a0646a",
   "metadata": {},
   "outputs": [
    {
     "name": "stdout",
     "output_type": "stream",
     "text": [
      "5\n",
      "0\n"
     ]
    }
   ],
   "source": [
    "array1=np.array([[1,2,3],[4,5,6]])\n",
    "\n",
    "print(np.argmax(array1))                #Print the max element index in 2D Array\n",
    "print(np.argmin(array1))                #Print the min element index in 2D Array"
   ]
  }
 ],
 "metadata": {
  "kernelspec": {
   "display_name": "Python 3",
   "language": "python",
   "name": "python3"
  },
  "language_info": {
   "codemirror_mode": {
    "name": "ipython",
    "version": 3
   },
   "file_extension": ".py",
   "mimetype": "text/x-python",
   "name": "python",
   "nbconvert_exporter": "python",
   "pygments_lexer": "ipython3",
   "version": "3.13.3"
  }
 },
 "nbformat": 4,
 "nbformat_minor": 5
}
